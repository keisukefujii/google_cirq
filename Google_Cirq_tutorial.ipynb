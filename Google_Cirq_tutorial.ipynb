{
 "cells": [
  {
   "cell_type": "markdown",
   "metadata": {},
   "source": [
    "# Google cirqのチュートリアル\n"
   ]
  },
  {
   "cell_type": "markdown",
   "metadata": {},
   "source": [
    "https://github.com/quantumlib/Cirq"
   ]
  },
  {
   "cell_type": "markdown",
   "metadata": {},
   "source": [
    "## インストール"
   ]
  },
  {
   "cell_type": "markdown",
   "metadata": {},
   "source": [
    "```\n",
    "pip install --upgrade pip\n",
    "pip install cirq\n",
    "```"
   ]
  },
  {
   "cell_type": "markdown",
   "metadata": {},
   "source": [
    "### とりあえず動かしてみる"
   ]
  },
  {
   "cell_type": "code",
   "execution_count": 238,
   "metadata": {},
   "outputs": [
    {
     "name": "stdout",
     "output_type": "stream",
     "text": [
      "Circuit:\n",
      "(0, 0): ───H───@───T───H───M('m')───\n",
      "               │           │\n",
      "(0, 1): ───────X───────────M────────\n",
      "Results:\n",
      "Counter({0: 33, 3: 29, 1: 23, 2: 15})\n"
     ]
    }
   ],
   "source": [
    "import cirq\n",
    "\n",
    "q0 = cirq.GridQubit(0, 0)\n",
    "q1 = cirq.GridQubit(0, 1)\n",
    "\n",
    "circuit = cirq.Circuit()\n",
    "circuit.append(cirq.H(q0))\n",
    "circuit.append(cirq.CNOT(q0,q1))\n",
    "circuit.append(cirq.RotZGate(half_turns = 0.25).on(q0))\n",
    "circuit.append(cirq.H(q0))\n",
    "circuit.append(cirq.measure(q0,q1, key='m'))\n",
    "\n",
    "print(\"Circuit:\")\n",
    "print(circuit)\n",
    "\n",
    "simulator = cirq.google.XmonSimulator()\n",
    "result = simulator.run(circuit, repetitions=100)\n",
    "print(\"Results:\")\n",
    "print(result.histogram(key='m'))\n",
    "\n",
    "\n",
    "#cirq.Circuit.from_ops(\n",
    "#    cirq.X(qubit)**0.5,  # Square root of NOT.\n",
    "#    cirq.measure(qubit, key='m')  # Measurement.\n",
    "#)\n",
    "\n",
    "\n",
    "\n",
    "# Simulate the circuit several times.\n"
   ]
  },
  {
   "cell_type": "markdown",
   "metadata": {},
   "source": [
    "### 量子ビット配列を定義する\n",
    "cirqでは正方格子上の量子ビットを配置する `GridQubit` が定義されている。"
   ]
  },
  {
   "cell_type": "code",
   "execution_count": 239,
   "metadata": {},
   "outputs": [
    {
     "name": "stdout",
     "output_type": "stream",
     "text": [
      "[GridQubit(0, 0), GridQubit(0, 1), GridQubit(0, 2), GridQubit(1, 0), GridQubit(1, 1), GridQubit(1, 2), GridQubit(2, 0), GridQubit(2, 1), GridQubit(2, 2)]\n"
     ]
    }
   ],
   "source": [
    "#  縦と横の長さが length の量子ビット配列を定義する。\n",
    "length = 3\n",
    "# define qubits on the grid.\n",
    "qubits = [cirq.GridQubit(i, j) for i in range(length) for j in range(length)]\n",
    "print(qubits)\n",
    "# prints \n",
    "# [GridQubit(0, 0), GridQubit(0, 1), GridQubit(0, 2), GridQubit(1, 0), GridQubit(1, 1), GridQubit(1, 2), GridQubit(2, 0), GridQubit(2, 1), GridQubit(2, 2)]"
   ]
  },
  {
   "cell_type": "markdown",
   "metadata": {},
   "source": [
    "量子ビットの呼び方とグリッド上の位置"
   ]
  },
  {
   "cell_type": "code",
   "execution_count": 21,
   "metadata": {},
   "outputs": [
    {
     "name": "stdout",
     "output_type": "stream",
     "text": [
      "(0, 0)\n",
      "(0, 1)\n",
      "(1, 0)\n",
      "(2, 2)\n"
     ]
    }
   ],
   "source": [
    "print(qubits[0])\n",
    "print(qubits[1])\n",
    "print(qubits[3])\n",
    "print(qubits[8])"
   ]
  },
  {
   "cell_type": "code",
   "execution_count": 35,
   "metadata": {},
   "outputs": [
    {
     "name": "stdout",
     "output_type": "stream",
     "text": [
      "(0, 0)\n"
     ]
    }
   ],
   "source": [
    "q0 = cirq.GridQubit(0,0)\n",
    "print(q0)"
   ]
  },
  {
   "cell_type": "markdown",
   "metadata": {},
   "source": [
    "### 量子回路を構成する\n",
    "空の量子回路を、 `Circuit`で用意する。量子回路に演算を追加する場合は、`append`を用いて量子演算を追加していく。量子回路を表示する場合は`print(circuit)`。量子演算は`Gate`で定義され、 `Gate.on`、もしくは、`Gate(作用する量子ビット)`で、どの量子ビットに作用するかを指定して、`GateOperation`に変換される。"
   ]
  },
  {
   "cell_type": "code",
   "execution_count": 36,
   "metadata": {},
   "outputs": [
    {
     "name": "stdout",
     "output_type": "stream",
     "text": [
      "(0, 0): ───H───────\n",
      "\n",
      "(0, 1): ───────X───\n",
      "\n",
      "(0, 2): ───H───────\n",
      "\n",
      "(1, 0): ───────X───\n",
      "\n",
      "(1, 1): ───H───────\n",
      "\n",
      "(1, 2): ───────X───\n",
      "\n",
      "(2, 0): ───H───────\n",
      "\n",
      "(2, 1): ───────X───\n",
      "\n",
      "(2, 2): ───H───────\n"
     ]
    }
   ],
   "source": [
    "# 空の量子回路を用意。\n",
    "circuit = cirq.Circuit()\n",
    "circuit.append(cirq.H.on(q) for q in qubits if (q.row + q.col) % 2 == 0)\n",
    "circuit.append(cirq.X.on(q) for q in qubits if (q.row + q.col) % 2 == 1)\n",
    "print(circuit)"
   ]
  },
  {
   "cell_type": "code",
   "execution_count": 37,
   "metadata": {},
   "outputs": [
    {
     "name": "stdout",
     "output_type": "stream",
     "text": [
      "X\n",
      "X((0, 0))\n"
     ]
    }
   ],
   "source": [
    "# Gate\n",
    "x_gate = cirq.X\n",
    "print(X_gate)\n",
    "\n",
    "# Gate を GateOperation に変換\n",
    "x_ope = x_gate(qubits[0])\n",
    "print(x_ope)"
   ]
  },
  {
   "cell_type": "markdown",
   "metadata": {},
   "source": [
    "`circuit`は同時に実行可能な`GateOperation`の集合である`Moment`に分割されている。"
   ]
  },
  {
   "cell_type": "code",
   "execution_count": 38,
   "metadata": {},
   "outputs": [
    {
     "name": "stdout",
     "output_type": "stream",
     "text": [
      "Moment 0: H((0, 0)) and H((0, 2)) and H((1, 1)) and H((2, 0)) and H((2, 2))\n",
      "Moment 1: X((0, 1)) and X((1, 0)) and X((1, 2)) and X((2, 1))\n"
     ]
    }
   ],
   "source": [
    "for i, m in enumerate(circuit):\n",
    "    print('Moment {}: {}'.format(i, m))\n",
    "# prints \n",
    "# Moment 0: H((0, 0)) and H((0, 2)) and H((1, 1)) and H((2, 0)) and H((2, 2))\n",
    "# Moment 1: X((0, 1)) and X((1, 0)) and X((1, 2)) and X((2, 1))"
   ]
  },
  {
   "cell_type": "markdown",
   "metadata": {},
   "source": [
    "### 量子演算の種類\n",
    "一般的な演算`CommonGates`とgoogleが開発するXmonに特化した演算、`XmonGates`がある。ここでは主に前者について説明する。"
   ]
  },
  {
   "cell_type": "code",
   "execution_count": 32,
   "metadata": {
    "scrolled": true
   },
   "outputs": [
    {
     "name": "stdout",
     "output_type": "stream",
     "text": [
      "(0, 0): ───X───Y───Z───H───T───S───@───×───@───X───Y───Z───H───T───S───@───×───@───\n",
      "                                   │   │   │                           │   │   │\n",
      "(0, 1): ───────────────────────────X───×───@───────────────────────────X───×───@───\n"
     ]
    }
   ],
   "source": [
    "x_gate = cirq.X\n",
    "y_gate = cirq.Y\n",
    "z_gate = cirq.Z\n",
    "\n",
    "h_gate = cirq.H\n",
    "t_gate = cirq.T\n",
    "s_gate = cirq.S\n",
    "\n",
    "cz_gate = cirq.CZ\n",
    "cnot_gate = cirq.CNOT\n",
    "swap_gate = cirq.SWAP\n",
    "\n",
    "circuit = cirq.Circuit()\n",
    "circuit.append(x_gate(qubits[0]))\n",
    "circuit.append(y_gate(qubits[0]))\n",
    "circuit.append(z_gate(qubits[0]))\n",
    "circuit.append(h_gate(qubits[0]))\n",
    "circuit.append(t_gate(qubits[0]))\n",
    "circuit.append(s_gate(qubits[0]))\n",
    "circuit.append(cnot_gate(qubits[0],qubits[1]))\n",
    "circuit.append(swap_gate(qubits[0],qubits[1]))\n",
    "circuit.append(cz_gate(qubits[0],qubits[1]))\n",
    "\n",
    "circuit.append(cirq.X.on(qubits[0]))\n",
    "circuit.append(cirq.Y.on(qubits[0]))\n",
    "circuit.append(cirq.Z.on(qubits[0]))\n",
    "circuit.append(cirq.H.on(qubits[0]))\n",
    "circuit.append(cirq.T.on(qubits[0]))\n",
    "circuit.append(cirq.S.on(qubits[0]))\n",
    "circuit.append(cirq.CNOT.on(qubits[0],qubits[1]))\n",
    "circuit.append(cirq.SWAP.on(qubits[0],qubits[1]))\n",
    "circuit.append(cirq.CZ.on(qubits[0],qubits[1]))\n",
    "print(circuit)"
   ]
  },
  {
   "cell_type": "markdown",
   "metadata": {},
   "source": [
    "連続的な演算。パラメータの入れ方は `half_turns`（X^a）のaを代入、`rads`ラジアン、`degs`度。"
   ]
  },
  {
   "cell_type": "code",
   "execution_count": 51,
   "metadata": {},
   "outputs": [
    {
     "name": "stdout",
     "output_type": "stream",
     "text": [
      "[[0.+0.j 1.+0.j]\n",
      " [1.+0.j 0.+0.j]]\n",
      "[[0.5+0.5j 0.5-0.5j]\n",
      " [0.5-0.5j 0.5+0.5j]]\n",
      "[[1.+0.j 0.+0.j]\n",
      " [0.+0.j 1.+0.j]]\n",
      "[[0.5+0.5j 0.5-0.5j]\n",
      " [0.5-0.5j 0.5+0.5j]]\n",
      "[[0.5+0.5j 0.5-0.5j]\n",
      " [0.5-0.5j 0.5+0.5j]]\n"
     ]
    }
   ],
   "source": [
    "import math\n",
    "# X\n",
    "x_rot_gate = cirq.RotXGate(half_turns = 1)\n",
    "print(x_rot_gate.matrix())\n",
    "\n",
    "# square root of X\n",
    "x_rot_gate = cirq.RotXGate(half_turns = 0.5)\n",
    "print(x_rot_gate.matrix())\n",
    "\n",
    "# Identity\n",
    "x_rot_gate = cirq.RotXGate(half_turns = 0)\n",
    "print(x_rot_gate.matrix())\n",
    "\n",
    "# radian\n",
    "x_rot_gate = cirq.RotXGate(rads = math.pi/2.0)\n",
    "print(x_rot_gate.matrix())\n",
    "\n",
    "# degree\n",
    "# radian\n",
    "x_rot_gate = cirq.RotXGate(degs = 90)\n",
    "print(x_rot_gate.matrix())"
   ]
  },
  {
   "cell_type": "markdown",
   "metadata": {},
   "source": [
    "同様に `RotYGate`、`RotZGate`が利用可能。"
   ]
  },
  {
   "cell_type": "markdown",
   "metadata": {},
   "source": [
    "また、|11>に位相を作用させるような `Rot11Gate`も利用可能。"
   ]
  },
  {
   "cell_type": "code",
   "execution_count": 55,
   "metadata": {},
   "outputs": [
    {
     "name": "stdout",
     "output_type": "stream",
     "text": [
      "[[1.+0.j 0.+0.j 0.+0.j 0.+0.j]\n",
      " [0.+0.j 1.+0.j 0.+0.j 0.+0.j]\n",
      " [0.+0.j 0.+0.j 1.+0.j 0.+0.j]\n",
      " [0.+0.j 0.+0.j 0.+0.j 0.+1.j]]\n"
     ]
    }
   ],
   "source": [
    "rot11_gate = cirq.Rot11Gate(rads = math.pi/2.0)\n",
    "print(rot11_gate.matrix())"
   ]
  },
  {
   "cell_type": "markdown",
   "metadata": {},
   "source": [
    "その他に量子ビットAに対してのA^aのような連続演算を定義するものとして、`CNotGate`、`SwapGate`、`ISwapGate`が利用できる。"
   ]
  },
  {
   "cell_type": "markdown",
   "metadata": {},
   "source": [
    "３量子ビットは、`CCZ`、`CCX`、`CSWAP`、`TOFFOLI`（CCXと同じ）、`FREDKIN`が利用可能。また、`XmonGate`として、"
   ]
  },
  {
   "cell_type": "code",
   "execution_count": 155,
   "metadata": {},
   "outputs": [
    {
     "name": "stdout",
     "output_type": "stream",
     "text": [
      "(0, 0): ───H───X───Y───Z───H───T───S───@───×───@─────────────────────────────────────\n",
      "                                       │   │   │\n",
      "(0, 1): ───H───────────────────────────X───×───@─────────────────────────────────────\n",
      "\n",
      "(0, 2): ───H───────────────────────────────────────X^0.5───Y^0.5───Z^0.167───@───────\n",
      "                                                                             │\n",
      "(1, 0): ───H─────────────────────────────────────────────────────────────────@^0.5───\n",
      "\n",
      "(1, 1): ───H─────────────────────────────────────────────────────────────────────────\n",
      "\n",
      "(1, 2): ───H─────────────────────────────────────────────────────────────────────────\n",
      "\n",
      "(2, 0): ───H─────────────────────────────────────────────────────────────────────────\n",
      "\n",
      "(2, 1): ───H─────────────────────────────────────────────────────────────────────────\n",
      "\n",
      "(2, 2): ───H─────────────────────────────────────────────────────────────────────────\n"
     ]
    }
   ],
   "source": [
    "circuit = cirq.Circuit()\n",
    "\n",
    "sqrtx_gate = cirq.RotXGate(half_turns = 0.5)\n",
    "sqrty_gate = cirq.RotYGate(half_turns = 0.5)\n",
    "sqrtz_gate = cirq.RotZGate(rads = math.pi/6.0)\n",
    "rot11_gate = cirq.Rot11Gate(rads = math.pi/2.0)\n",
    "circuit.append(h_gate(q) for q in  qubits)\n",
    "\n",
    "circuit.append(x_gate(qubits[0]))\n",
    "circuit.append(y_gate(qubits[0]))\n",
    "circuit.append(z_gate(qubits[0]))\n",
    "circuit.append(h_gate(qubits[0]))\n",
    "circuit.append(t_gate(qubits[0]))\n",
    "circuit.append(s_gate(qubits[0]))\n",
    "circuit.append(cnot_gate(qubits[0],qubits[1]))\n",
    "circuit.append(swap_gate(qubits[0],qubits[1]))\n",
    "circuit.append(cz_gate(qubits[0],qubits[1]))\n",
    "circuit.append(sqrtx_gate(qubits[2]))\n",
    "circuit.append(sqrty_gate(qubits[2]))\n",
    "circuit.append(sqrtz_gate(qubits[2]))\n",
    "circuit.append(rot11_gate(qubits[2],qubits[3]))\n",
    "\n",
    "print(circuit)\n"
   ]
  },
  {
   "cell_type": "markdown",
   "metadata": {},
   "source": [
    "### 測定を追加する"
   ]
  },
  {
   "cell_type": "markdown",
   "metadata": {},
   "source": [
    "測定は `Circuit` に `MesurementGate`を追加する。"
   ]
  },
  {
   "cell_type": "code",
   "execution_count": 156,
   "metadata": {},
   "outputs": [
    {
     "name": "stdout",
     "output_type": "stream",
     "text": [
      "(0, 0): ───H───X───Y───Z───H───T───S───@───×───@─────────────────────────────────────M('x')───\n",
      "                                       │   │   │\n",
      "(0, 1): ───H───────────────────────────X───×───@──────────────────────────────────────────────\n",
      "\n",
      "(0, 2): ───H───────────────────────────────────────X^0.5───Y^0.5───Z^0.167───@────────────────\n",
      "                                                                             │\n",
      "(1, 0): ───H─────────────────────────────────────────────────────────────────@^0.5────────────\n",
      "\n",
      "(1, 1): ───H──────────────────────────────────────────────────────────────────────────────────\n",
      "\n",
      "(1, 2): ───H──────────────────────────────────────────────────────────────────────────────────\n",
      "\n",
      "(2, 0): ───H──────────────────────────────────────────────────────────────────────────────────\n",
      "\n",
      "(2, 1): ───H──────────────────────────────────────────────────────────────────────────────────\n",
      "\n",
      "(2, 2): ───H──────────────────────────────────────────────────────────────────────────────────\n"
     ]
    }
   ],
   "source": [
    "meas = cirq.MeasurementGate(key = 'x')\n",
    "meas_ope = meas.on(qubits[0])\n",
    "\n",
    "# `Circuit` のdeep copy \n",
    "circuit_with_meas = cirq.Circuit.copy(circuit)\n",
    "circuit_with_meas.append(meas_ope)\n",
    "print(circuit_with_meas)"
   ]
  },
  {
   "cell_type": "markdown",
   "metadata": {},
   "source": [
    "もしくは、"
   ]
  },
  {
   "cell_type": "code",
   "execution_count": 157,
   "metadata": {},
   "outputs": [
    {
     "name": "stdout",
     "output_type": "stream",
     "text": [
      "(0, 0): ───H───X───Y───Z───H───T───S───@───×───@─────────────────────────────────────M('x')───\n",
      "                                       │   │   │\n",
      "(0, 1): ───H───────────────────────────X───×───@──────────────────────────────────────────────\n",
      "\n",
      "(0, 2): ───H───────────────────────────────────────X^0.5───Y^0.5───Z^0.167───@────────────────\n",
      "                                                                             │\n",
      "(1, 0): ───H─────────────────────────────────────────────────────────────────@^0.5────────────\n",
      "\n",
      "(1, 1): ───H──────────────────────────────────────────────────────────────────────────────────\n",
      "\n",
      "(1, 2): ───H──────────────────────────────────────────────────────────────────────────────────\n",
      "\n",
      "(2, 0): ───H──────────────────────────────────────────────────────────────────────────────────\n",
      "\n",
      "(2, 1): ───H──────────────────────────────────────────────────────────────────────────────────\n",
      "\n",
      "(2, 2): ───H──────────────────────────────────────────────────────────────────────────────────\n"
     ]
    }
   ],
   "source": [
    "circuit_with_meas = cirq.Circuit.copy(circuit)\n",
    "circuit_with_meas.append(cirq.measure(qubits[0],key='x'))\n",
    "print(circuit_with_meas)"
   ]
  },
  {
   "cell_type": "markdown",
   "metadata": {},
   "source": [
    "まとめて追加するなら、"
   ]
  },
  {
   "cell_type": "code",
   "execution_count": 158,
   "metadata": {},
   "outputs": [
    {
     "name": "stdout",
     "output_type": "stream",
     "text": [
      "(0, 0): ───H───X───Y───Z───H───T───S───@───×───@─────────────────────────────────────M('x')───\n",
      "                                       │   │   │                                     │\n",
      "(0, 1): ───H───────────────────────────X───×───@─────────────────────────────────────M────────\n",
      "                                                                                     │\n",
      "(0, 2): ───H───────────────────────────────────────X^0.5───Y^0.5───Z^0.167───@───────M────────\n",
      "                                                                             │       │\n",
      "(1, 0): ───H─────────────────────────────────────────────────────────────────@^0.5───M────────\n",
      "                                                                                     │\n",
      "(1, 1): ───H─────────────────────────────────────────────────────────────────────────M────────\n",
      "                                                                                     │\n",
      "(1, 2): ───H─────────────────────────────────────────────────────────────────────────M────────\n",
      "                                                                                     │\n",
      "(2, 0): ───H─────────────────────────────────────────────────────────────────────────M────────\n",
      "                                                                                     │\n",
      "(2, 1): ───H─────────────────────────────────────────────────────────────────────────M────────\n",
      "                                                                                     │\n",
      "(2, 2): ───H─────────────────────────────────────────────────────────────────────────M────────\n"
     ]
    }
   ],
   "source": [
    "circuit_with_meas = cirq.Circuit.copy(circuit)\n",
    "circuit_with_meas.append(cirq.measure(*qubits,key='x'))\n",
    "print(circuit_with_meas)"
   ]
  },
  {
   "cell_type": "markdown",
   "metadata": {},
   "source": [
    "### 構成した回路を実行する（シミュレータ）"
   ]
  },
  {
   "cell_type": "code",
   "execution_count": 169,
   "metadata": {},
   "outputs": [
    {
     "name": "stdout",
     "output_type": "stream",
     "text": [
      "x=1, 0, 1, 1, 0, 0, 0, 0, 0\n",
      "x=101010101\n"
     ]
    }
   ],
   "source": [
    "simulator = cirq.google.XmonSimulator()\n",
    "#もしくは from cirq.google import XmonSimulator\n",
    "\n",
    "result = simulator.run(circuit_with_meas,repetitions=1, qubit_order=qubits)\n",
    "print(result)\n",
    "\n",
    "result = simulator.simulate(circuit_with_meas, qubit_order=qubits)\n",
    "print(result)"
   ]
  },
  {
   "cell_type": "markdown",
   "metadata": {},
   "source": [
    "何回も繰り返したヒストグラムは、\n"
   ]
  },
  {
   "cell_type": "code",
   "execution_count": 161,
   "metadata": {},
   "outputs": [
    {
     "name": "stdout",
     "output_type": "stream",
     "text": [
      "Counter({380: 16, 102: 14, 112: 13, 101: 13, 109: 12, 111: 12, 358: 12, 124: 12, 351: 12, 353: 12, 105: 12, 114: 12, 345: 12, 327: 11, 328: 11, 87: 11, 121: 11, 338: 11, 72: 11, 70: 11, 369: 11, 354: 11, 76: 11, 93: 10, 85: 10, 119: 10, 324: 10, 373: 10, 98: 10, 375: 10, 103: 10, 67: 10, 113: 10, 341: 10, 64: 10, 95: 9, 371: 9, 360: 9, 339: 9, 366: 9, 382: 9, 84: 9, 363: 9, 326: 9, 372: 9, 122: 9, 107: 9, 364: 9, 82: 9, 381: 9, 108: 8, 86: 8, 322: 8, 71: 8, 66: 8, 330: 8, 368: 8, 355: 8, 359: 8, 79: 8, 110: 8, 74: 8, 332: 8, 325: 8, 337: 8, 126: 8, 333: 8, 356: 8, 127: 8, 323: 8, 347: 7, 352: 7, 346: 7, 97: 7, 89: 7, 118: 7, 370: 7, 344: 7, 342: 7, 378: 7, 117: 7, 336: 7, 320: 7, 77: 7, 104: 7, 81: 7, 383: 7, 120: 7, 329: 6, 376: 6, 350: 6, 106: 6, 78: 6, 115: 6, 334: 6, 362: 6, 99: 6, 377: 6, 96: 6, 83: 6, 125: 6, 357: 5, 69: 5, 94: 5, 91: 5, 73: 5, 374: 5, 68: 5, 123: 5, 116: 5, 75: 5, 361: 5, 379: 4, 365: 4, 349: 4, 80: 4, 88: 4, 90: 4, 335: 4, 92: 3, 340: 3, 331: 3, 321: 3, 343: 3, 100: 3, 367: 2, 65: 2, 348: 2})\n"
     ]
    }
   ],
   "source": [
    "result = simulator.run(circuit_with_meas,repetitions=1000, qubit_order=qubits)\n",
    "print(result.histogram(key='x'))"
   ]
  },
  {
   "cell_type": "markdown",
   "metadata": {},
   "source": [
    "例えば、380:16は、測定結果のビット列を整数で表示したとき380に対応するものが16回カウントされた。今は9量子ビットの測定結果９ビットで表現される0~511までの整数のカウント数が表示されている。"
   ]
  },
  {
   "cell_type": "code",
   "execution_count": 170,
   "metadata": {},
   "outputs": [
    {
     "name": "stdout",
     "output_type": "stream",
     "text": [
      "x=101001000\n"
     ]
    }
   ],
   "source": [
    "result = simulator.simulate(circuit_with_meas, qubit_order=qubits)\n",
    "print(result)"
   ]
  },
  {
   "cell_type": "markdown",
   "metadata": {},
   "source": [
    "### 1量子ビット演算の速度計測"
   ]
  },
  {
   "cell_type": "code",
   "execution_count": 208,
   "metadata": {},
   "outputs": [
    {
     "name": "stdout",
     "output_type": "stream",
     "text": [
      "5 0.0005863189697265625\n",
      "6 0.0004938443501790365\n",
      "7 0.00038863931383405415\n",
      "8 0.00035788118839263916\n",
      "9 0.0003858274883694119\n",
      "10 0.0003578424453735352\n",
      "11 0.00038905577226118606\n",
      "12 0.0004514952500661214\n",
      "13 0.0006179259373591497\n",
      "14 0.0009067228862217494\n",
      "15 0.0014355977376302083\n",
      "16 0.002659842371940613\n",
      "17 0.006418326321770163\n",
      "18 0.009363724125756158\n",
      "19 0.012215106110823782\n",
      "20 0.02017190456390381\n"
     ]
    }
   ],
   "source": [
    "import time\n",
    "\n",
    "for k in range(16):\n",
    "    length = 5+k\n",
    "    qubits = [cirq.GridQubit(i, 0) for i in range(length)]\n",
    "    circuit = cirq.Circuit()\n",
    "    depth = 2\n",
    "    for i in range(depth):\n",
    "        circuit.append(sqrtx_gate(q) for q in qubits)\n",
    "    #print(circuit)\n",
    "\n",
    "    start = time.time()\n",
    "    result = simulator.simulate(circuit)\n",
    "    elapsed_time = time.time() - start\n",
    "    print(\"{0} \".format(length) + \"{0}\".format(elapsed_time/depth/length))\n"
   ]
  },
  {
   "cell_type": "markdown",
   "metadata": {},
   "source": [
    "### ２量子ビットの速度計測"
   ]
  },
  {
   "cell_type": "code",
   "execution_count": 218,
   "metadata": {},
   "outputs": [
    {
     "name": "stdout",
     "output_type": "stream",
     "text": [
      "5 0.005272487799326579\n",
      "6 0.005054450035095215\n",
      "7 0.006153702735900879\n",
      "8 0.005717947369530087\n",
      "9 0.005064236266272408\n",
      "10 0.005918873680962456\n",
      "11 0.005739357736375596\n",
      "12 0.0058295986869118434\n",
      "13 0.0063888340285330105\n",
      "14 0.007797409326602251\n",
      "15 0.011585434714516441\n",
      "16 0.017545210747491744\n",
      "17 0.032306812206904095\n",
      "18 0.06696187485666837\n",
      "19 0.08677310803357292\n"
     ]
    }
   ],
   "source": [
    "for k in range(15):\n",
    "    length = 5+k\n",
    "    qubits = [cirq.GridQubit(i, 0) for i in range(length)]\n",
    "    circuit = cirq.Circuit()\n",
    "\n",
    "    num_gates =0;\n",
    "    for i in range(depth):\n",
    "        for q in range(length-1):\n",
    "            for p in range(q):\n",
    "                circuit.append(cirq.CNOT(qubits[q],qubits[p]))\n",
    "                num_gates = num_gates +1\n",
    "    #print(circuit)\n",
    "    #print(num_gates)\n",
    "    start = time.time()\n",
    "    result = simulator.simulate(circuit)\n",
    "    elapsed_time = time.time() - start\n",
    "    print(\"{0} \".format(length) + \"{0}\".format(elapsed_time/num_gates))"
   ]
  },
  {
   "cell_type": "code",
   "execution_count": null,
   "metadata": {},
   "outputs": [],
   "source": []
  }
 ],
 "metadata": {
  "kernelspec": {
   "display_name": "Python 3",
   "language": "python",
   "name": "python3"
  },
  "language_info": {
   "codemirror_mode": {
    "name": "ipython",
    "version": 3
   },
   "file_extension": ".py",
   "mimetype": "text/x-python",
   "name": "python",
   "nbconvert_exporter": "python",
   "pygments_lexer": "ipython3",
   "version": "3.6.0"
  }
 },
 "nbformat": 4,
 "nbformat_minor": 2
}
